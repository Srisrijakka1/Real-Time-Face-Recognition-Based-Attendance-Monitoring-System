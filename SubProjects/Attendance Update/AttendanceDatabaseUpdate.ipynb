{
  "nbformat": 4,
  "nbformat_minor": 0,
  "metadata": {
    "colab": {
      "provenance": []
    },
    "kernelspec": {
      "name": "python3",
      "display_name": "Python 3"
    },
    "language_info": {
      "name": "python"
    }
  },
  "cells": [
    {
      "cell_type": "code",
      "execution_count": 12,
      "metadata": {
        "colab": {
          "base_uri": "https://localhost:8080/"
        },
        "id": "T6JFiN_puYeL",
        "outputId": "9feb0f04-d6bd-4407-fc24-9ba0dd81d534"
      },
      "outputs": [
        {
          "output_type": "stream",
          "name": "stdout",
          "text": [
            "initial> ['List of students in the class (or) login students list:\\n', '_______________________________________________________\\n', 'VAMSI\\n', 'NAGASESHU\\n', 'VIKAS\\n', 'SRISRI\\n']\n",
            "final> ['List of students in the class (or) login students list:\\n', '_______________________________________________________\\n', 'VAMSI\\n', 'NAGASESHU\\n', 'VIKAS\\n', 'SRISRI\\n', 'Spark\\n']\n"
          ]
        },
        {
          "output_type": "execute_result",
          "data": {
            "text/plain": [
              "0"
            ]
          },
          "metadata": {},
          "execution_count": 12
        }
      ],
      "source": [
        "def update_login(student_name):\n",
        "      file_path = '/content/drive/MyDrive/Colab Notebooks/Real_time_face_recognition_based_Attendance_monitoring_system/Attendance folder/login.txt'\n",
        "      # student_name = input(\"Enter student name: \")\n",
        "\n",
        "      with open(file_path, 'r') as file:\n",
        "          lines = file.readlines()\n",
        "      print(\"initial>\",lines)\n",
        "\n",
        "      found = 0\n",
        "      new_lines = []\n",
        "\n",
        "      for line in lines:\n",
        "          if line.strip() == student_name:\n",
        "              found = 1 \n",
        "              print(found,\"<<\")\n",
        "              continue\n",
        "          else:\n",
        "              new_lines.append(line)\n",
        "\n",
        "      if not found:\n",
        "          new_lines.append(student_name + '\\n')\n",
        "\n",
        "      with open(file_path, 'w') as file:\n",
        "          file.writelines(new_lines)\n",
        "\n",
        "      with open(file_path, 'r') as file:\n",
        "          lines = file.readlines()\n",
        "      print(\"final>\",lines)\n",
        "      return found\n",
        "\n",
        "update_login(\"Spark\")"
      ]
    }
  ]
}